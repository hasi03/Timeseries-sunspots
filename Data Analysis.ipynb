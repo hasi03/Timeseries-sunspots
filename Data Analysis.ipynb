{
 "cells": [
  {
   "cell_type": "code",
   "execution_count": 17,
   "id": "18e1ca44",
   "metadata": {},
   "outputs": [],
   "source": [
    "import seaborn as sns\n",
    "import matplotlib.pyplot as plt\n",
    "import pandas as pd\n",
    "import numpy as np\n",
    "import tensorflow as tf\n",
    "import scipy.stats as stats\n",
    "import plot_series\n",
    "import pylab"
   ]
  },
  {
   "cell_type": "code",
   "execution_count": 5,
   "id": "0052d5a1",
   "metadata": {},
   "outputs": [],
   "source": [
    "import os\n",
    "\n",
    "# Get the current working directory\n",
    "current_dir = os.getcwd()\n",
    "\n",
    "# You can define a folder name like 'output'\n",
    "output_folder = \"results/\"\n",
    "\n",
    "# This creates the full path to the output directory\n",
    "output_dir = os.path.join(current_dir, output_folder)\n",
    "\n",
    "# Create the output directory if it doesn't exist\n",
    "if not os.path.exists(output_dir):\n",
    "    os.makedirs(output_dir)"
   ]
  },
  {
   "cell_type": "code",
   "execution_count": 8,
   "id": "fbc6098b",
   "metadata": {},
   "outputs": [
    {
     "name": "stdout",
     "output_type": "stream",
     "text": [
      "<class 'pandas.core.frame.DataFrame'>\n",
      "RangeIndex: 73718 entries, 0 to 73717\n",
      "Data columns (total 9 columns):\n",
      " #   Column                    Non-Null Count  Dtype  \n",
      "---  ------                    --------------  -----  \n",
      " 0   Unnamed: 0                73718 non-null  int64  \n",
      " 1   Year                      73718 non-null  int64  \n",
      " 2   Month                     73718 non-null  int64  \n",
      " 3   Day                       73718 non-null  int64  \n",
      " 4   Date In Fraction Of Year  73718 non-null  float64\n",
      " 5   Number of Sunspots        73718 non-null  int64  \n",
      " 6   Standard Deviation        73718 non-null  float64\n",
      " 7   Observations              73718 non-null  int64  \n",
      " 8   Indicator                 73718 non-null  int64  \n",
      "dtypes: float64(2), int64(7)\n",
      "memory usage: 5.1 MB\n"
     ]
    }
   ],
   "source": [
    "data = pd.read_csv(current_dir + '/data/sunspot_data.csv')\n",
    "data.info()\n"
   ]
  },
  {
   "cell_type": "markdown",
   "id": "d6d2d50b",
   "metadata": {},
   "source": [
    "# Initial Analysis"
   ]
  },
  {
   "cell_type": "code",
   "execution_count": 12,
   "id": "557f1bd8",
   "metadata": {},
   "outputs": [
    {
     "data": {
      "text/html": [
       "<div>\n",
       "<style scoped>\n",
       "    .dataframe tbody tr th:only-of-type {\n",
       "        vertical-align: middle;\n",
       "    }\n",
       "\n",
       "    .dataframe tbody tr th {\n",
       "        vertical-align: top;\n",
       "    }\n",
       "\n",
       "    .dataframe thead th {\n",
       "        text-align: right;\n",
       "    }\n",
       "</style>\n",
       "<table border=\"1\" class=\"dataframe\">\n",
       "  <thead>\n",
       "    <tr style=\"text-align: right;\">\n",
       "      <th></th>\n",
       "      <th>Unnamed: 0</th>\n",
       "      <th>Year</th>\n",
       "      <th>Month</th>\n",
       "      <th>Day</th>\n",
       "      <th>Date In Fraction Of Year</th>\n",
       "      <th>Number of Sunspots</th>\n",
       "      <th>Standard Deviation</th>\n",
       "      <th>Observations</th>\n",
       "      <th>Indicator</th>\n",
       "    </tr>\n",
       "  </thead>\n",
       "  <tbody>\n",
       "    <tr>\n",
       "      <th>count</th>\n",
       "      <td>73718.000000</td>\n",
       "      <td>73718.000000</td>\n",
       "      <td>73718.000000</td>\n",
       "      <td>73718.000000</td>\n",
       "      <td>73718.000000</td>\n",
       "      <td>73718.000000</td>\n",
       "      <td>73718.000000</td>\n",
       "      <td>73718.000000</td>\n",
       "      <td>73718.000000</td>\n",
       "    </tr>\n",
       "    <tr>\n",
       "      <th>mean</th>\n",
       "      <td>36858.500000</td>\n",
       "      <td>1918.416750</td>\n",
       "      <td>6.518896</td>\n",
       "      <td>15.729347</td>\n",
       "      <td>1918.916406</td>\n",
       "      <td>79.248732</td>\n",
       "      <td>6.924587</td>\n",
       "      <td>4.429678</td>\n",
       "      <td>0.998331</td>\n",
       "    </tr>\n",
       "    <tr>\n",
       "      <th>std</th>\n",
       "      <td>21280.697909</td>\n",
       "      <td>58.264401</td>\n",
       "      <td>3.447114</td>\n",
       "      <td>8.800032</td>\n",
       "      <td>58.264520</td>\n",
       "      <td>77.470942</td>\n",
       "      <td>4.778793</td>\n",
       "      <td>7.884112</td>\n",
       "      <td>0.040814</td>\n",
       "    </tr>\n",
       "    <tr>\n",
       "      <th>min</th>\n",
       "      <td>0.000000</td>\n",
       "      <td>1818.000000</td>\n",
       "      <td>1.000000</td>\n",
       "      <td>1.000000</td>\n",
       "      <td>1818.001000</td>\n",
       "      <td>-1.000000</td>\n",
       "      <td>-1.000000</td>\n",
       "      <td>0.000000</td>\n",
       "      <td>0.000000</td>\n",
       "    </tr>\n",
       "    <tr>\n",
       "      <th>25%</th>\n",
       "      <td>18429.250000</td>\n",
       "      <td>1868.000000</td>\n",
       "      <td>4.000000</td>\n",
       "      <td>8.000000</td>\n",
       "      <td>1868.458500</td>\n",
       "      <td>15.000000</td>\n",
       "      <td>3.000000</td>\n",
       "      <td>1.000000</td>\n",
       "      <td>1.000000</td>\n",
       "    </tr>\n",
       "    <tr>\n",
       "      <th>50%</th>\n",
       "      <td>36858.500000</td>\n",
       "      <td>1918.000000</td>\n",
       "      <td>7.000000</td>\n",
       "      <td>16.000000</td>\n",
       "      <td>1918.917500</td>\n",
       "      <td>58.000000</td>\n",
       "      <td>6.600000</td>\n",
       "      <td>1.000000</td>\n",
       "      <td>1.000000</td>\n",
       "    </tr>\n",
       "    <tr>\n",
       "      <th>75%</th>\n",
       "      <td>55287.750000</td>\n",
       "      <td>1969.000000</td>\n",
       "      <td>10.000000</td>\n",
       "      <td>23.000000</td>\n",
       "      <td>1969.373250</td>\n",
       "      <td>125.000000</td>\n",
       "      <td>10.000000</td>\n",
       "      <td>1.000000</td>\n",
       "      <td>1.000000</td>\n",
       "    </tr>\n",
       "    <tr>\n",
       "      <th>max</th>\n",
       "      <td>73717.000000</td>\n",
       "      <td>2019.000000</td>\n",
       "      <td>12.000000</td>\n",
       "      <td>31.000000</td>\n",
       "      <td>2019.832000</td>\n",
       "      <td>528.000000</td>\n",
       "      <td>77.700000</td>\n",
       "      <td>60.000000</td>\n",
       "      <td>1.000000</td>\n",
       "    </tr>\n",
       "  </tbody>\n",
       "</table>\n",
       "</div>"
      ],
      "text/plain": [
       "         Unnamed: 0          Year         Month           Day  \\\n",
       "count  73718.000000  73718.000000  73718.000000  73718.000000   \n",
       "mean   36858.500000   1918.416750      6.518896     15.729347   \n",
       "std    21280.697909     58.264401      3.447114      8.800032   \n",
       "min        0.000000   1818.000000      1.000000      1.000000   \n",
       "25%    18429.250000   1868.000000      4.000000      8.000000   \n",
       "50%    36858.500000   1918.000000      7.000000     16.000000   \n",
       "75%    55287.750000   1969.000000     10.000000     23.000000   \n",
       "max    73717.000000   2019.000000     12.000000     31.000000   \n",
       "\n",
       "       Date In Fraction Of Year  Number of Sunspots  Standard Deviation  \\\n",
       "count              73718.000000        73718.000000        73718.000000   \n",
       "mean                1918.916406           79.248732            6.924587   \n",
       "std                   58.264520           77.470942            4.778793   \n",
       "min                 1818.001000           -1.000000           -1.000000   \n",
       "25%                 1868.458500           15.000000            3.000000   \n",
       "50%                 1918.917500           58.000000            6.600000   \n",
       "75%                 1969.373250          125.000000           10.000000   \n",
       "max                 2019.832000          528.000000           77.700000   \n",
       "\n",
       "       Observations     Indicator  \n",
       "count  73718.000000  73718.000000  \n",
       "mean       4.429678      0.998331  \n",
       "std        7.884112      0.040814  \n",
       "min        0.000000      0.000000  \n",
       "25%        1.000000      1.000000  \n",
       "50%        1.000000      1.000000  \n",
       "75%        1.000000      1.000000  \n",
       "max       60.000000      1.000000  "
      ]
     },
     "execution_count": 12,
     "metadata": {},
     "output_type": "execute_result"
    }
   ],
   "source": [
    "# length of the time period\n",
    "data.describe()"
   ]
  },
  {
   "cell_type": "code",
   "execution_count": 21,
   "id": "2df9308b",
   "metadata": {},
   "outputs": [],
   "source": [
    "group2 = data.groupby([data['Year'].astype(int),data['Month'].astype(int)]).mean()\n",
    "\n",
    "sunspots = np.array(group2['Number of Sunspots'].astype(int))\n",
    "time_step = np.array(group2['Date In Fraction Of Year'])\n",
    "\n",
    "time = np.arange(sunspots.size)\n",
    "series = np.array(sunspots)"
   ]
  },
  {
   "cell_type": "code",
   "execution_count": 22,
   "id": "895ac084",
   "metadata": {},
   "outputs": [
    {
     "data": {
      "image/png": "[encoded data removed]",
      "text/plain": [
       "<Figure size 640x480 with 1 Axes>"
      ]
     },
     "metadata": {},
     "output_type": "display_data"
    }
   ],
   "source": [
    "stats.probplot(series, plot=pylab)\n",
    "pylab.show()"
   ]
  },
  {
   "cell_type": "code",
   "execution_count": null,
   "id": "8cebe34c",
   "metadata": {},
   "outputs": [],
   "source": []
  }
 ],
 "metadata": {
  "kernelspec": {
   "display_name": "Python 3 (ipykernel)",
   "language": "python",
   "name": "python3"
  },
  "language_info": {
   "codemirror_mode": {
    "name": "ipython",
    "version": 3
   },
   "file_extension": ".py",
   "mimetype": "text/x-python",
   "name": "python",
   "nbconvert_exporter": "python",
   "pygments_lexer": "ipython3",
   "version": "3.9.13"
  }
 },
 "nbformat": 4,
 "nbformat_minor": 5
}
